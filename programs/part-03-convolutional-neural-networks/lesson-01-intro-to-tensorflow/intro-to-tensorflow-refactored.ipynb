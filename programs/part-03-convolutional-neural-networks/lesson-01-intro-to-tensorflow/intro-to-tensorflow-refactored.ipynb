{
 "cells": [
  {
   "cell_type": "markdown",
   "metadata": {},
   "source": [
    "# Intro to TensorFlow"
   ]
  },
  {
   "cell_type": "code",
   "execution_count": 1,
   "metadata": {
    "collapsed": true
   },
   "outputs": [],
   "source": [
    "import math\n",
    "\n",
    "import numpy as np\n",
    "import tensorflow as tf\n",
    "\n",
    "from pprint import pprint\n",
    "\n",
    "from tensorflow.examples.tutorials.mnist import input_data\n",
    "from sklearn import preprocessing"
   ]
  },
  {
   "cell_type": "markdown",
   "metadata": {},
   "source": [
    "## HelloWorld"
   ]
  },
  {
   "cell_type": "code",
   "execution_count": 2,
   "metadata": {},
   "outputs": [],
   "source": [
    "class HelloWorld:\n",
    "    \n",
    "    def run(self):\n",
    "        hello_constant = tf.constant('Hello World!')\n",
    "        \n",
    "        with tf.Session() as sess:\n",
    "            output = sess.run(hello_constant)\n",
    "            print(output)"
   ]
  },
  {
   "cell_type": "code",
   "execution_count": 3,
   "metadata": {},
   "outputs": [
    {
     "name": "stdout",
     "output_type": "stream",
     "text": [
      "b'Hello World!'\n"
     ]
    }
   ],
   "source": [
    "helloWorld = HelloWorld()\n",
    "helloWorld.run()"
   ]
  },
  {
   "cell_type": "markdown",
   "metadata": {},
   "source": [
    "## HelloTensorWorld"
   ]
  },
  {
   "cell_type": "code",
   "execution_count": 4,
   "metadata": {},
   "outputs": [],
   "source": [
    "class HelloTensorWorld:\n",
    "    \n",
    "    def run(self):\n",
    "        output = None\n",
    "        x = tf.placeholder(tf.int32)\n",
    "        \n",
    "        with tf.Session() as sess:\n",
    "            output = sess.run(x, feed_dict={x:123})\n",
    "            \n",
    "        return output"
   ]
  },
  {
   "cell_type": "code",
   "execution_count": 5,
   "metadata": {},
   "outputs": [
    {
     "name": "stdout",
     "output_type": "stream",
     "text": [
      "123\n"
     ]
    }
   ],
   "source": [
    "helloTensorWorld = HelloTensorWorld()\n",
    "output = helloTensorWorld.run()\n",
    "print(output)"
   ]
  },
  {
   "cell_type": "markdown",
   "metadata": {},
   "source": [
    "## TensorflowMath"
   ]
  },
  {
   "cell_type": "code",
   "execution_count": 6,
   "metadata": {},
   "outputs": [],
   "source": [
    "class TensorflowMath:\n",
    "    \n",
    "    def add(self, x, y):\n",
    "        z = tf.add(x, y)\n",
    "        res = self.run(x, y, z, \"{}+{}={}\")\n",
    "        return res\n",
    "    \n",
    "    def subtract(self, x, y):\n",
    "        z = tf.subtract(x, y)\n",
    "        res = self.run(x, y, z, \"{}-{}={}\")\n",
    "        return res\n",
    "    \n",
    "    def multiply(self, x, y):\n",
    "        z = tf.multiply(x, y)\n",
    "        res = self.run(x, y, z, \"{}*{}={}\")\n",
    "        return res\n",
    "\n",
    "    def divide(self, x, y):\n",
    "        z = tf.divide(x, y)\n",
    "        res = self.run(x, y, z, \"{}/{}={}\")\n",
    "        return res\n",
    "    \n",
    "    def run(self, x, y, z, template):\n",
    "        with tf.Session() as sess:\n",
    "            res = sess.run(z)\n",
    "            print(template.format(x.eval(), y.eval(), res))\n",
    "        return res"
   ]
  },
  {
   "cell_type": "code",
   "execution_count": 7,
   "metadata": {},
   "outputs": [
    {
     "name": "stdout",
     "output_type": "stream",
     "text": [
      "5+2=7\n",
      "5-2=3\n",
      "5*2=10\n",
      "5/2=2.5\n",
      "2-1=1\n"
     ]
    }
   ],
   "source": [
    "tensorflowMath = TensorflowMath()\n",
    "\n",
    "x = tf.constant(5)\n",
    "y = tf.constant(2)\n",
    "\n",
    "z = tensorflowMath.add(x, y)\n",
    "z = tensorflowMath.subtract(x, y)\n",
    "z = tensorflowMath.multiply(x, y)\n",
    "z = tensorflowMath.divide(x, y)\n",
    "z = tensorflowMath.subtract(tf.cast(z, tf.int32), tf.constant(1))"
   ]
  },
  {
   "cell_type": "markdown",
   "metadata": {},
   "source": [
    "## LinearClassifier"
   ]
  },
  {
   "cell_type": "code",
   "execution_count": 8,
   "metadata": {
    "collapsed": true
   },
   "outputs": [],
   "source": [
    "class LinearClassifier:\n",
    "    \n",
    "    def get_weights(self, n_features, n_labels):\n",
    "        \"\"\"\n",
    "        Return TensorFlow weights\n",
    "        :param n_features: Number of features\n",
    "        :param n_labels: Number of labels\n",
    "        :return: TensorFlow weights\n",
    "        \"\"\"\n",
    "        return tf.Variable(tf.truncated_normal((n_features, n_labels)))\n",
    "\n",
    "    def get_biases(self, n_labels):\n",
    "        \"\"\"\n",
    "        Return TensorFlow bias\n",
    "        :param n_labels: Number of labels\n",
    "        :return: TensorFlow bias\n",
    "        \"\"\"\n",
    "        return tf.Variable(tf.zeros(n_labels))\n",
    "\n",
    "    def apply_linear_function(self, input, w, b):\n",
    "        \"\"\"\n",
    "        Return linear function in TensorFlow\n",
    "        :param input: TensorFlow input\n",
    "        :param w: TensorFlow weights\n",
    "        :param b: TensorFlow biases\n",
    "        :return: TensorFlow linear function\n",
    "        \"\"\"\n",
    "        return tf.add(tf.matmul(input, w), b)"
   ]
  },
  {
   "cell_type": "markdown",
   "metadata": {},
   "source": [
    "## MNISTDataExtractor"
   ]
  },
  {
   "cell_type": "code",
   "execution_count": 9,
   "metadata": {
    "collapsed": true
   },
   "outputs": [],
   "source": [
    "class MNISTDataExtractor:\n",
    "    \n",
    "    def get_mnist_features_labels(self, n_labels):\n",
    "        \"\"\"\n",
    "        Gets the first <n> labels from the MNIST dataset\n",
    "        :param n_labels: Number of labels to use\n",
    "        :return: Tuple of feature list and label list\n",
    "        \"\"\"\n",
    "        \n",
    "        mnist_features = []\n",
    "        mnist_labels = []\n",
    "        \n",
    "        mnist = input_data.read_data_sets('./datasets/ud730/mnist', one_hot=True)\n",
    "        \n",
    "        # Look at 10000 images\n",
    "        for mnist_feature, mnist_label in zip(*mnist.train.next_batch(10000)):\n",
    "            \n",
    "            # Add features and labels if it's for the first <n>th labels\n",
    "            if mnist_label[:n_labels].any():\n",
    "                mnist_features.append(mnist_feature)\n",
    "                mnist_labels.append(mnist_label[:n_labels])\n",
    "                \n",
    "        return mnist_features, mnist_labels"
   ]
  },
  {
   "cell_type": "markdown",
   "metadata": {},
   "source": [
    "## MNISTClassifier"
   ]
  },
  {
   "cell_type": "code",
   "execution_count": 10,
   "metadata": {},
   "outputs": [],
   "source": [
    "class MNISTClassifier:\n",
    "    \n",
    "    def classify_mnist_images(self, n_features=784, n_labels=3):\n",
    "        # Features and Labels\n",
    "        features = tf.placeholder(tf.float32)\n",
    "        labels = tf.placeholder(tf.float32)\n",
    "        \n",
    "        # Weights and Biases\n",
    "        linearClassifier = LinearClassifier()\n",
    "        w = linearClassifier.get_weights(n_features, n_labels)\n",
    "        b = linearClassifier.get_biases(n_labels)\n",
    "        \n",
    "        # Linear Function xW + b\n",
    "        logits = linearClassifier.apply_linear_function(features, w, b)\n",
    "        \n",
    "        # Training data\n",
    "        dataExtractor = MNISTDataExtractor()\n",
    "        train_features, train_labels = dataExtractor.get_mnist_features_labels(n_labels)\n",
    "        \n",
    "        with tf.Session() as sess:\n",
    "            # Initialize session variables\n",
    "            sess.run(tf.global_variables_initializer())\n",
    "            \n",
    "            # Softmax\n",
    "            prediction = tf.nn.softmax(logits)\n",
    "            \n",
    "            # Cross entropy\n",
    "            cross_entropy = -tf.reduce_sum(labels * tf.log(prediction), reduction_indices=1)\n",
    "            \n",
    "            # Training loss\n",
    "            loss = tf.reduce_mean(cross_entropy)\n",
    "            \n",
    "            # Learnign rate\n",
    "            learning_rate = 0.08\n",
    "            \n",
    "            # Graident descent\n",
    "            optimizer = tf.train.GradientDescentOptimizer(learning_rate).minimize(loss)\n",
    "            \n",
    "            # Run optimizer and get loss\n",
    "            _, train_loss = sess.run([optimizer, loss],\n",
    "                                      feed_dict={features: train_features,\n",
    "                                                 labels: train_labels})\n",
    "            \n",
    "        print('Loss: {}'.format(train_loss))"
   ]
  },
  {
   "cell_type": "code",
   "execution_count": 11,
   "metadata": {},
   "outputs": [
    {
     "name": "stdout",
     "output_type": "stream",
     "text": [
      "Extracting ./datasets/ud730/mnist/train-images-idx3-ubyte.gz\n",
      "Extracting ./datasets/ud730/mnist/train-labels-idx1-ubyte.gz\n",
      "Extracting ./datasets/ud730/mnist/t10k-images-idx3-ubyte.gz\n",
      "Extracting ./datasets/ud730/mnist/t10k-labels-idx1-ubyte.gz\n",
      "Loss: 8.099044799804688\n"
     ]
    }
   ],
   "source": [
    "mnistClassifier = MNISTClassifier()\n",
    "mnistClassifier.classify_mnist_images()"
   ]
  },
  {
   "cell_type": "markdown",
   "metadata": {},
   "source": [
    "## TensorflowSoftmax"
   ]
  },
  {
   "cell_type": "code",
   "execution_count": 12,
   "metadata": {},
   "outputs": [],
   "source": [
    "class TensorflowSoftmax:\n",
    "    \n",
    "    def run(self, logit_data):\n",
    "        logits = tf.placeholder(tf.float32)\n",
    "        \n",
    "        # Calculate the softmax of the logits\n",
    "        softmax = tf.nn.softmax(logits)\n",
    "        \n",
    "        with tf.Session() as sess:\n",
    "            # Feed in the logit data\n",
    "            output = sess.run(softmax, feed_dict={logits: logit_data})\n",
    "            \n",
    "        return output"
   ]
  },
  {
   "cell_type": "code",
   "execution_count": 13,
   "metadata": {},
   "outputs": [
    {
     "name": "stdout",
     "output_type": "stream",
     "text": [
      "[ 0.65900117  0.24243298  0.09856589]\n",
      "[ 0.33333334  0.33333334  0.33333334]\n"
     ]
    }
   ],
   "source": [
    "tensorflowSoftmax = TensorflowSoftmax()\n",
    "\n",
    "logit_data = [2.0, 1.0, 0.1]\n",
    "output = tensorflowSoftmax.run(logit_data)\n",
    "print(output)\n",
    "\n",
    "logit_data = [1.0, 1.0, 1.0]\n",
    "output = tensorflowSoftmax.run(logit_data)\n",
    "print(output)"
   ]
  },
  {
   "cell_type": "markdown",
   "metadata": {},
   "source": [
    "## OneHotEncoder"
   ]
  },
  {
   "cell_type": "code",
   "execution_count": 14,
   "metadata": {
    "collapsed": true
   },
   "outputs": [],
   "source": [
    "class OneHotEncoder:\n",
    "    \n",
    "    def one_hot_encode(self, labels):\n",
    "        lb = preprocessing.LabelBinarizer()\n",
    "        lb.fit(labels)\n",
    "        one_hot = lb.transform(labels)\n",
    "        return one_hot"
   ]
  },
  {
   "cell_type": "code",
   "execution_count": 15,
   "metadata": {},
   "outputs": [
    {
     "name": "stdout",
     "output_type": "stream",
     "text": [
      "[[1 0 0 0 0]\n",
      " [0 0 0 0 1]\n",
      " [0 0 1 0 0]\n",
      " [0 1 0 0 0]\n",
      " [1 0 0 0 0]\n",
      " [0 0 0 1 0]\n",
      " [0 1 0 0 0]\n",
      " [1 0 0 0 0]\n",
      " [0 0 1 0 0]]\n"
     ]
    }
   ],
   "source": [
    "oneHotEncoder = OneHotEncoder()\n",
    "labels = np.array([1,5,3,2,1,4,2,1,3])\n",
    "one_hot = oneHotEncoder.one_hot_encode(labels)\n",
    "print(one_hot)"
   ]
  },
  {
   "cell_type": "markdown",
   "metadata": {},
   "source": [
    "## CrossEntropyCalculator"
   ]
  },
  {
   "cell_type": "code",
   "execution_count": 16,
   "metadata": {
    "collapsed": true
   },
   "outputs": [],
   "source": [
    "class CrossEntropyCalculator:\n",
    "    \n",
    "    def compute_cross_entropy(self, softmax_data, one_hot_data):\n",
    "        softmax = tf.placeholder(tf.float32)\n",
    "        one_hot = tf.placeholder(tf.float32)\n",
    "        \n",
    "        cross_entropy = -tf.reduce_sum(tf.multiply(one_hot, tf.log(softmax)))\n",
    "        \n",
    "        with tf.Session() as sess:\n",
    "            output = sess.run(cross_entropy, feed_dict={softmax: softmax_data, one_hot: one_hot_data})\n",
    "        \n",
    "        return output"
   ]
  },
  {
   "cell_type": "code",
   "execution_count": 17,
   "metadata": {},
   "outputs": [
    {
     "name": "stdout",
     "output_type": "stream",
     "text": [
      "0.356675\n"
     ]
    }
   ],
   "source": [
    "crossEntropyCalculator = CrossEntropyCalculator()\n",
    "\n",
    "softmax_data = [0.7, 0.2, 0.1]\n",
    "one_hot_data = [1.0, 0.0, 0.0]\n",
    "\n",
    "cross_entropy = crossEntropyCalculator.compute_cross_entropy(softmax_data, one_hot_data)\n",
    "\n",
    "print(cross_entropy)"
   ]
  },
  {
   "cell_type": "markdown",
   "metadata": {},
   "source": [
    "## MiniBatcher"
   ]
  },
  {
   "cell_type": "code",
   "execution_count": 18,
   "metadata": {
    "collapsed": true
   },
   "outputs": [],
   "source": [
    "class MiniBatcher:\n",
    "    \n",
    "    def get_batches(self, batch_size, features, labels):\n",
    "        \"\"\"\n",
    "        Create batches of features and labels\n",
    "        :param batch_size: The batch size\n",
    "        :param features: List of features\n",
    "        :param labels: List of labels\n",
    "        :return: Batches of (Features, Labels)\n",
    "        \"\"\"\n",
    "        \n",
    "        assert len(features) == len(labels)\n",
    "        \n",
    "        batches = []\n",
    "        sample_size = len(features)\n",
    "        \n",
    "        for start_i in range(0, sample_size, batch_size):\n",
    "            end_i = start_i + batch_size\n",
    "            batch = [features[start_i:end_i], labels[start_i:end_i]]\n",
    "            batches.append(batch)\n",
    "        \n",
    "        return batches"
   ]
  },
  {
   "cell_type": "code",
   "execution_count": 19,
   "metadata": {},
   "outputs": [
    {
     "name": "stdout",
     "output_type": "stream",
     "text": [
      "[[[['F11', 'F12', 'F13', 'F14'],\n",
      "   ['F21', 'F22', 'F23', 'F24'],\n",
      "   ['F31', 'F32', 'F33', 'F34']],\n",
      "  [['L11', 'L12'], ['L21', 'L22'], ['L31', 'L32']]],\n",
      " [[['F41', 'F42', 'F43', 'F44']], [['L41', 'L42']]]]\n"
     ]
    }
   ],
   "source": [
    "miniBatcher = MiniBatcher()\n",
    "\n",
    "batch_size = 3\n",
    "\n",
    "# 4 Samples of features\n",
    "example_features = [\n",
    "    ['F11','F12','F13','F14'],\n",
    "    ['F21','F22','F23','F24'],\n",
    "    ['F31','F32','F33','F34'],\n",
    "    ['F41','F42','F43','F44']]\n",
    "\n",
    "# 4 Samples of labels\n",
    "example_labels = [\n",
    "    ['L11','L12'],\n",
    "    ['L21','L22'],\n",
    "    ['L31','L32'],\n",
    "    ['L41','L42']]\n",
    "\n",
    "batches = miniBatcher.get_batches(batch_size, example_features, example_labels)\n",
    "\n",
    "pprint(batches)"
   ]
  },
  {
   "cell_type": "markdown",
   "metadata": {},
   "source": [
    "## MiniBatchMNISTClassifier"
   ]
  },
  {
   "cell_type": "code",
   "execution_count": 20,
   "metadata": {},
   "outputs": [],
   "source": [
    "class MiniBatchMNISTClassifier:\n",
    "    \n",
    "    def classify_mnist_images(self, n_features=784, n_labels=10, learning_rate=0.001):\n",
    "        # Import MNIST data\n",
    "        mnist = input_data.read_data_sets('./datasets/ud730/mnist', one_hot=True)\n",
    "        \n",
    "        # Features are already scaled and shuffled\n",
    "        train_features = mnist.train.images\n",
    "        test_features = mnist.test.images\n",
    "        \n",
    "        train_labels = mnist.train.labels.astype(np.float32)\n",
    "        test_labels = mnist.test.labels.astype(np.float32)\n",
    "        \n",
    "        # Features and Labels\n",
    "        features = tf.placeholder(tf.float32, [None, n_features])\n",
    "        labels = tf.placeholder(tf.float32, [None, n_labels])\n",
    "        \n",
    "        # Weights, Biases, and Logits\n",
    "        linearClassifier = LinearClassifier()\n",
    "        weights = linearClassifier.get_weights(n_features, n_labels)\n",
    "        biases = linearClassifier.get_biases(n_labels)\n",
    "        logits = linearClassifier.apply_linear_function(features, weights, biases)\n",
    "        \n",
    "        # Define loss and optimizer\n",
    "        cost = tf.reduce_mean(tf.nn.softmax_cross_entropy_with_logits(logits=logits, labels=labels))\n",
    "        optimizer = tf.train.GradientDescentOptimizer(learning_rate=learning_rate).minimize(cost)\n",
    "\n",
    "        # Calculate accuracy\n",
    "        correct_prediction = tf.equal(tf.argmax(logits, 1), tf.argmax(labels, 1))\n",
    "        accuracy = tf.reduce_mean(tf.cast(correct_prediction, tf.float32))\n",
    "\n",
    "        # Set batch size\n",
    "        batch_size = 128\n",
    "        assert batch_size is not None, 'You must set the batch size'\n",
    "        \n",
    "        with tf.Session() as sess:\n",
    "            sess.run(tf.global_variables_initializer())\n",
    "            \n",
    "            # Train optimizer on all batches\n",
    "            miniBatcher = MiniBatcher()\n",
    "            batches = miniBatcher.get_batches(batch_size, train_features, train_labels)\n",
    "            \n",
    "            for batch_features, batch_labels in batches:\n",
    "                sess.run(optimizer, feed_dict={features: batch_features, labels: batch_labels})\n",
    "                \n",
    "            # Calculate accuracy for test dataset\n",
    "            test_accuracy = sess.run(accuracy, \n",
    "                                     feed_dict={features: test_features, labels: test_labels})\n",
    "\n",
    "        print('Test Accuracy: {}'.format(test_accuracy))"
   ]
  },
  {
   "cell_type": "code",
   "execution_count": 21,
   "metadata": {},
   "outputs": [
    {
     "name": "stdout",
     "output_type": "stream",
     "text": [
      "Extracting ./datasets/ud730/mnist/train-images-idx3-ubyte.gz\n",
      "Extracting ./datasets/ud730/mnist/train-labels-idx1-ubyte.gz\n",
      "Extracting ./datasets/ud730/mnist/t10k-images-idx3-ubyte.gz\n",
      "Extracting ./datasets/ud730/mnist/t10k-labels-idx1-ubyte.gz\n",
      "Test Accuracy: 0.0843999981880188\n"
     ]
    }
   ],
   "source": [
    "miniBatchMNISTClassifier = MiniBatchMNISTClassifier()\n",
    "miniBatchMNISTClassifier.classify_mnist_images()"
   ]
  }
 ],
 "metadata": {
  "kernelspec": {
   "display_name": "Python [default]",
   "language": "python",
   "name": "python3"
  },
  "language_info": {
   "codemirror_mode": {
    "name": "ipython",
    "version": 3
   },
   "file_extension": ".py",
   "mimetype": "text/x-python",
   "name": "python",
   "nbconvert_exporter": "python",
   "pygments_lexer": "ipython3",
   "version": "3.6.2"
  }
 },
 "nbformat": 4,
 "nbformat_minor": 2
}
