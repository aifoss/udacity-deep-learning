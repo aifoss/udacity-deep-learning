{
 "cells": [
  {
   "cell_type": "markdown",
   "metadata": {},
   "source": [
    "# TV Script Generation\n",
    "In this project, you'll generate your own [Simpsons](https://en.wikipedia.org/wiki/The_Simpsons) TV scripts using RNNs.  You'll be using part of the [Simpsons dataset](https://www.kaggle.com/wcukierski/the-simpsons-by-the-data) of scripts from 27 seasons.  The Neural Network you'll build will generate a new TV script for a scene at [Moe's Tavern](https://simpsonswiki.com/wiki/Moe's_Tavern).\n",
    "## Get the Data\n",
    "The data is already provided for you.  You'll be using a subset of the original dataset.  It consists of only the scenes in Moe's Tavern.  This doesn't include other versions of the tavern, like \"Moe's Cavern\", \"Flaming Moe's\", \"Uncle Moe's Family Feed-Bag\", etc.."
   ]
  },
  {
   "cell_type": "code",
   "execution_count": 1,
   "metadata": {
    "collapsed": true
   },
   "outputs": [],
   "source": [
    "\"\"\"\n",
    "DON'T MODIFY ANYTHING IN THIS CELL\n",
    "\"\"\"\n",
    "import helper\n",
    "\n",
    "data_dir = './data/simpsons/moes_tavern_lines.txt'\n",
    "text = helper.load_data(data_dir)\n",
    "# Ignore notice, since we don't use it for analysing the data\n",
    "text = text[81:]"
   ]
  },
  {
   "cell_type": "markdown",
   "metadata": {},
   "source": [
    "## Explore the Data\n",
    "Play around with `view_sentence_range` to view different parts of the data."
   ]
  },
  {
   "cell_type": "code",
   "execution_count": 2,
   "metadata": {},
   "outputs": [
    {
     "name": "stdout",
     "output_type": "stream",
     "text": [
      "Dataset Stats\n",
      "Roughly the number of unique words: 11492\n",
      "Number of scenes: 262\n",
      "Average number of sentences in each scene: 15.248091603053435\n",
      "Number of lines: 4257\n",
      "Average number of words in each line: 11.50434578341555\n",
      "\n",
      "The sentences 0 to 10:\n",
      "Moe_Szyslak: (INTO PHONE) Moe's Tavern. Where the elite meet to drink.\n",
      "Bart_Simpson: Eh, yeah, hello, is Mike there? Last name, Rotch.\n",
      "Moe_Szyslak: (INTO PHONE) Hold on, I'll check. (TO BARFLIES) Mike Rotch. Mike Rotch. Hey, has anybody seen Mike Rotch, lately?\n",
      "Moe_Szyslak: (INTO PHONE) Listen you little puke. One of these days I'm gonna catch you, and I'm gonna carve my name on your back with an ice pick.\n",
      "Moe_Szyslak: What's the matter Homer? You're not your normal effervescent self.\n",
      "Homer_Simpson: I got my problems, Moe. Give me another one.\n",
      "Moe_Szyslak: Homer, hey, you should not drink to forget your problems.\n",
      "Barney_Gumble: Yeah, you should only drink to enhance your social skills.\n",
      "\n",
      "\n"
     ]
    }
   ],
   "source": [
    "view_sentence_range = (0, 10)\n",
    "\n",
    "\"\"\"\n",
    "DON'T MODIFY ANYTHING IN THIS CELL\n",
    "\"\"\"\n",
    "import numpy as np\n",
    "\n",
    "print('Dataset Stats')\n",
    "print('Roughly the number of unique words: {}'.format(len({word: None for word in text.split()})))\n",
    "scenes = text.split('\\n\\n')\n",
    "print('Number of scenes: {}'.format(len(scenes)))\n",
    "sentence_count_scene = [scene.count('\\n') for scene in scenes]\n",
    "print('Average number of sentences in each scene: {}'.format(np.average(sentence_count_scene)))\n",
    "\n",
    "sentences = [sentence for scene in scenes for sentence in scene.split('\\n')]\n",
    "print('Number of lines: {}'.format(len(sentences)))\n",
    "word_count_sentence = [len(sentence.split()) for sentence in sentences]\n",
    "print('Average number of words in each line: {}'.format(np.average(word_count_sentence)))\n",
    "\n",
    "print()\n",
    "print('The sentences {} to {}:'.format(*view_sentence_range))\n",
    "print('\\n'.join(text.split('\\n')[view_sentence_range[0]:view_sentence_range[1]]))"
   ]
  },
  {
   "cell_type": "markdown",
   "metadata": {},
   "source": [
    "## Implement Preprocessing Functions\n",
    "The first thing to do to any dataset is preprocessing.  Implement the following preprocessing functions below:\n",
    "- Lookup Table\n",
    "- Tokenize Punctuation\n",
    "\n",
    "### Lookup Table\n",
    "To create a word embedding, you first need to transform the words to ids.  In this function, create two dictionaries:\n",
    "- Dictionary to go from the words to an id, we'll call `vocab_to_int`\n",
    "- Dictionary to go from the id to word, we'll call `int_to_vocab`\n",
    "\n",
    "Return these dictionaries in the following tuple `(vocab_to_int, int_to_vocab)`"
   ]
  },
  {
   "cell_type": "code",
   "execution_count": 3,
   "metadata": {},
   "outputs": [
    {
     "name": "stdout",
     "output_type": "stream",
     "text": [
      "Tests Passed\n"
     ]
    }
   ],
   "source": [
    "import numpy as np\n",
    "import problem_unittests as tests\n",
    "from collections import Counter\n",
    "\n",
    "def create_lookup_tables(text):\n",
    "    \"\"\"\n",
    "    Create lookup tables for vocabulary\n",
    "    :param text: The text of tv scripts split into words\n",
    "    :return: A tuple of dicts (vocab_to_int, int_to_vocab)\n",
    "    \"\"\"\n",
    "    # TODO: Implement Function\n",
    "    word_counts = Counter(text)\n",
    "    sorted_vocab = sorted(word_counts, key=word_counts.get, reverse=True)\n",
    "    int_to_vocab = {ii: word for ii, word in enumerate(sorted_vocab)}\n",
    "    vocab_to_int = {word: ii for ii, word in int_to_vocab.items()}\n",
    "    return (vocab_to_int, int_to_vocab)\n",
    "\n",
    "\n",
    "\"\"\"\n",
    "DON'T MODIFY ANYTHING IN THIS CELL THAT IS BELOW THIS LINE\n",
    "\"\"\"\n",
    "tests.test_create_lookup_tables(create_lookup_tables)"
   ]
  },
  {
   "cell_type": "markdown",
   "metadata": {},
   "source": [
    "### Tokenize Punctuation\n",
    "We'll be splitting the script into a word array using spaces as delimiters.  However, punctuations like periods and exclamation marks make it hard for the neural network to distinguish between the word \"bye\" and \"bye!\".\n",
    "\n",
    "Implement the function `token_lookup` to return a dict that will be used to tokenize symbols like \"!\" into \"||Exclamation_Mark||\".  Create a dictionary for the following symbols where the symbol is the key and value is the token:\n",
    "- Period ( . )\n",
    "- Comma ( , )\n",
    "- Quotation Mark ( \" )\n",
    "- Semicolon ( ; )\n",
    "- Exclamation mark ( ! )\n",
    "- Question mark ( ? )\n",
    "- Left Parentheses ( ( )\n",
    "- Right Parentheses ( ) )\n",
    "- Dash ( -- )\n",
    "- Return ( \\n )\n",
    "\n",
    "This dictionary will be used to token the symbols and add the delimiter (space) around it.  This separates the symbols as it's own word, making it easier for the neural network to predict on the next word. Make sure you don't use a token that could be confused as a word. Instead of using the token \"dash\", try using something like \"||dash||\"."
   ]
  },
  {
   "cell_type": "code",
   "execution_count": 4,
   "metadata": {},
   "outputs": [
    {
     "name": "stdout",
     "output_type": "stream",
     "text": [
      "Tests Passed\n"
     ]
    }
   ],
   "source": [
    "def token_lookup():\n",
    "    \"\"\"\n",
    "    Generate a dict to turn punctuation into a token.\n",
    "    :return: Tokenize dictionary where the key is the punctuation and the value is the token\n",
    "    \"\"\"\n",
    "    # TODO: Implement Function\n",
    "    punc_dict = {}\n",
    "    punc_dict['.']  = \"||Period||\"\n",
    "    punc_dict[',']  = \"||Comma||\"\n",
    "    punc_dict['\"']  = \"||Quotation_Mark||\"\n",
    "    punc_dict[';']  = \"||Semicolon||\"\n",
    "    punc_dict['!']  = \"||Exclamation_Mark||\"\n",
    "    punc_dict['?']  = \"||Question_Mark\"\n",
    "    punc_dict['(']  = \"||Left_Parenthesis||\"\n",
    "    punc_dict[')']  = \"||Right_Parenthesis||\"\n",
    "    punc_dict['--'] = \"||Dash||\"\n",
    "    punc_dict['\\n'] = \"||Return||\"\n",
    "    \n",
    "    return punc_dict\n",
    "\n",
    "\"\"\"\n",
    "DON'T MODIFY ANYTHING IN THIS CELL THAT IS BELOW THIS LINE\n",
    "\"\"\"\n",
    "tests.test_tokenize(token_lookup)"
   ]
  },
  {
   "cell_type": "markdown",
   "metadata": {},
   "source": [
    "## Preprocess all the data and save it\n",
    "Running the code cell below will preprocess all the data and save it to file."
   ]
  },
  {
   "cell_type": "code",
   "execution_count": 5,
   "metadata": {
    "collapsed": true
   },
   "outputs": [],
   "source": [
    "\"\"\"\n",
    "DON'T MODIFY ANYTHING IN THIS CELL\n",
    "\"\"\"\n",
    "# Preprocess Training, Validation, and Testing Data\n",
    "helper.preprocess_and_save_data(data_dir, token_lookup, create_lookup_tables)"
   ]
  },
  {
   "cell_type": "markdown",
   "metadata": {},
   "source": [
    "# Check Point\n",
    "This is your first checkpoint. If you ever decide to come back to this notebook or have to restart the notebook, you can start from here. The preprocessed data has been saved to disk."
   ]
  },
  {
   "cell_type": "code",
   "execution_count": 6,
   "metadata": {
    "collapsed": true
   },
   "outputs": [],
   "source": [
    "\"\"\"\n",
    "DON'T MODIFY ANYTHING IN THIS CELL\n",
    "\"\"\"\n",
    "import helper\n",
    "import numpy as np\n",
    "import problem_unittests as tests\n",
    "\n",
    "int_text, vocab_to_int, int_to_vocab, token_dict = helper.load_preprocess()"
   ]
  },
  {
   "cell_type": "markdown",
   "metadata": {},
   "source": [
    "## Build the Neural Network\n",
    "You'll build the components necessary to build a RNN by implementing the following functions below:\n",
    "- get_inputs\n",
    "- get_init_cell\n",
    "- get_embed\n",
    "- build_rnn\n",
    "- build_nn\n",
    "- get_batches\n",
    "\n",
    "### Check the Version of TensorFlow and Access to GPU"
   ]
  },
  {
   "cell_type": "code",
   "execution_count": 7,
   "metadata": {},
   "outputs": [
    {
     "name": "stdout",
     "output_type": "stream",
     "text": [
      "TensorFlow Version: 1.1.0\n",
      "Default GPU Device: /gpu:0\n"
     ]
    }
   ],
   "source": [
    "\"\"\"\n",
    "DON'T MODIFY ANYTHING IN THIS CELL\n",
    "\"\"\"\n",
    "from distutils.version import LooseVersion\n",
    "import warnings\n",
    "import tensorflow as tf\n",
    "\n",
    "# Check TensorFlow Version\n",
    "assert LooseVersion(tf.__version__) >= LooseVersion('1.0'), 'Please use TensorFlow version 1.0 or newer'\n",
    "print('TensorFlow Version: {}'.format(tf.__version__))\n",
    "\n",
    "# Check for a GPU\n",
    "if not tf.test.gpu_device_name():\n",
    "    warnings.warn('No GPU found. Please use a GPU to train your neural network.')\n",
    "else:\n",
    "    print('Default GPU Device: {}'.format(tf.test.gpu_device_name()))"
   ]
  },
  {
   "cell_type": "markdown",
   "metadata": {},
   "source": [
    "### Input\n",
    "Implement the `get_inputs()` function to create TF Placeholders for the Neural Network.  It should create the following placeholders:\n",
    "- Input text placeholder named \"input\" using the [TF Placeholder](https://www.tensorflow.org/api_docs/python/tf/placeholder) `name` parameter.\n",
    "- Targets placeholder\n",
    "- Learning Rate placeholder\n",
    "\n",
    "Return the placeholders in the following tuple `(Input, Targets, LearningRate)`"
   ]
  },
  {
   "cell_type": "code",
   "execution_count": 8,
   "metadata": {},
   "outputs": [
    {
     "name": "stdout",
     "output_type": "stream",
     "text": [
      "Tests Passed\n"
     ]
    }
   ],
   "source": [
    "def get_inputs():\n",
    "    \"\"\"\n",
    "    Create TF Placeholders for input, targets, and learning rate.\n",
    "    :return: Tuple (input, targets, learning rate)\n",
    "    \"\"\"\n",
    "    # TODO: Implement Function\n",
    "    inputs = tf.placeholder(tf.int32, [None, None], name='input')\n",
    "    targets = tf.placeholder(tf.int32, [None, None], name='targets')\n",
    "    learning_rate = tf.placeholder(tf.float32, name='learning_rate')\n",
    "    return (inputs, targets, learning_rate)\n",
    "\n",
    "\n",
    "\"\"\"\n",
    "DON'T MODIFY ANYTHING IN THIS CELL THAT IS BELOW THIS LINE\n",
    "\"\"\"\n",
    "tests.test_get_inputs(get_inputs)"
   ]
  },
  {
   "cell_type": "markdown",
   "metadata": {},
   "source": [
    "### Build RNN Cell and Initialize\n",
    "Stack one or more [`BasicLSTMCells`](https://www.tensorflow.org/api_docs/python/tf/contrib/rnn/BasicLSTMCell) in a [`MultiRNNCell`](https://www.tensorflow.org/api_docs/python/tf/contrib/rnn/MultiRNNCell).\n",
    "- The Rnn size should be set using `rnn_size`\n",
    "- Initalize Cell State using the MultiRNNCell's [`zero_state()`](https://www.tensorflow.org/api_docs/python/tf/contrib/rnn/MultiRNNCell#zero_state) function\n",
    "    - Apply the name \"initial_state\" to the initial state using [`tf.identity()`](https://www.tensorflow.org/api_docs/python/tf/identity)\n",
    "\n",
    "Return the cell and initial state in the following tuple `(Cell, InitialState)`"
   ]
  },
  {
   "cell_type": "code",
   "execution_count": 9,
   "metadata": {},
   "outputs": [
    {
     "name": "stdout",
     "output_type": "stream",
     "text": [
      "Tests Passed\n"
     ]
    }
   ],
   "source": [
    "def get_init_cell(batch_size, rnn_size):\n",
    "    \"\"\"\n",
    "    Create an RNN Cell and initialize it.\n",
    "    :param batch_size: Size of batches\n",
    "    :param rnn_size: Size of RNNs\n",
    "    :return: Tuple (cell, initialize state)\n",
    "    \"\"\"\n",
    "    # TODO: Implement Function\n",
    "    num_layers = 2\n",
    "    keep_prob = 0.75\n",
    "    \n",
    "    cell = tf.contrib.rnn.MultiRNNCell(\n",
    "            [build_lstm_cell(rnn_size, keep_prob) for _ in range(num_layers)])\n",
    "    \n",
    "    initial_state = cell.zero_state(batch_size, tf.float32)\n",
    "    initial_state = tf.identity(initial_state, name='initial_state')\n",
    "    \n",
    "    return (cell, initial_state)\n",
    "\n",
    "\n",
    "def build_lstm_cell(rnn_size, keep_prob):\n",
    "    lstm = tf.contrib.rnn.BasicLSTMCell(rnn_size)\n",
    "    drop = tf.contrib.rnn.DropoutWrapper(lstm, output_keep_prob=keep_prob)\n",
    "    return drop\n",
    "    \n",
    "\n",
    "\"\"\"\n",
    "DON'T MODIFY ANYTHING IN THIS CELL THAT IS BELOW THIS LINE\n",
    "\"\"\"\n",
    "tests.test_get_init_cell(get_init_cell)"
   ]
  },
  {
   "cell_type": "markdown",
   "metadata": {},
   "source": [
    "### Word Embedding\n",
    "Apply embedding to `input_data` using TensorFlow.  Return the embedded sequence."
   ]
  },
  {
   "cell_type": "code",
   "execution_count": 10,
   "metadata": {},
   "outputs": [
    {
     "name": "stdout",
     "output_type": "stream",
     "text": [
      "Tests Passed\n"
     ]
    }
   ],
   "source": [
    "def get_embed(input_data, vocab_size, embed_dim):\n",
    "    \"\"\"\n",
    "    Create embedding for <input_data>.\n",
    "    :param input_data: TF placeholder for text input.\n",
    "    :param vocab_size: Number of words in vocabulary.\n",
    "    :param embed_dim: Number of embedding dimensions\n",
    "    :return: Embedded input.\n",
    "    \"\"\"\n",
    "    # TODO: Implement Function\n",
    "    embedding = tf.Variable(tf.random_uniform((vocab_size, embed_dim), -1, 1))\n",
    "    embed = tf.nn.embedding_lookup(embedding, input_data)\n",
    "    return embed\n",
    "\n",
    "\n",
    "\"\"\"\n",
    "DON'T MODIFY ANYTHING IN THIS CELL THAT IS BELOW THIS LINE\n",
    "\"\"\"\n",
    "tests.test_get_embed(get_embed)"
   ]
  },
  {
   "cell_type": "markdown",
   "metadata": {},
   "source": [
    "### Build RNN\n",
    "You created a RNN Cell in the `get_init_cell()` function.  Time to use the cell to create a RNN.\n",
    "- Build the RNN using the [`tf.nn.dynamic_rnn()`](https://www.tensorflow.org/api_docs/python/tf/nn/dynamic_rnn)\n",
    " - Apply the name \"final_state\" to the final state using [`tf.identity()`](https://www.tensorflow.org/api_docs/python/tf/identity)\n",
    "\n",
    "Return the outputs and final_state state in the following tuple `(Outputs, FinalState)` "
   ]
  },
  {
   "cell_type": "code",
   "execution_count": 11,
   "metadata": {},
   "outputs": [
    {
     "name": "stdout",
     "output_type": "stream",
     "text": [
      "Tests Passed\n"
     ]
    }
   ],
   "source": [
    "def build_rnn(cell, inputs):\n",
    "    \"\"\"\n",
    "    Create a RNN using a RNN Cell\n",
    "    :param cell: RNN Cell\n",
    "    :param inputs: Input text data\n",
    "    :return: Tuple (Outputs, Final State)\n",
    "    \"\"\"\n",
    "    # TODO: Implement Function\n",
    "    outputs, final_state = tf.nn.dynamic_rnn(cell, inputs, dtype=tf.float32)\n",
    "    final_state = tf.identity(final_state, name='final_state')\n",
    "    return (outputs, final_state)\n",
    "\n",
    "\n",
    "\"\"\"\n",
    "DON'T MODIFY ANYTHING IN THIS CELL THAT IS BELOW THIS LINE\n",
    "\"\"\"\n",
    "tests.test_build_rnn(build_rnn)"
   ]
  },
  {
   "cell_type": "markdown",
   "metadata": {},
   "source": [
    "### Build the Neural Network\n",
    "Apply the functions you implemented above to:\n",
    "- Apply embedding to `input_data` using your `get_embed(input_data, vocab_size, embed_dim)` function.\n",
    "- Build RNN using `cell` and your `build_rnn(cell, inputs)` function.\n",
    "- Apply a fully connected layer with a linear activation and `vocab_size` as the number of outputs.\n",
    "\n",
    "Return the logits and final state in the following tuple (Logits, FinalState) "
   ]
  },
  {
   "cell_type": "code",
   "execution_count": 12,
   "metadata": {},
   "outputs": [
    {
     "name": "stdout",
     "output_type": "stream",
     "text": [
      "Tests Passed\n"
     ]
    }
   ],
   "source": [
    "def build_nn(cell, rnn_size, input_data, vocab_size, embed_dim):\n",
    "    \"\"\"\n",
    "    Build part of the neural network\n",
    "    :param cell: RNN cell\n",
    "    :param rnn_size: Size of rnns\n",
    "    :param input_data: Input data\n",
    "    :param vocab_size: Vocabulary size\n",
    "    :param embed_dim: Number of embedding dimensions\n",
    "    :return: Tuple (Logits, FinalState)\n",
    "    \"\"\"\n",
    "    # TODO: Implement Function\n",
    "    embed = get_embed(input_data, vocab_size, embed_dim)\n",
    "    outputs, final_state = build_rnn(cell, embed)\n",
    "    logits = tf.contrib.layers.fully_connected(inputs=outputs,\n",
    "                                               num_outputs=vocab_size,\n",
    "                                               activation_fn=None)\n",
    "    return (logits, final_state)\n",
    "\n",
    "\n",
    "\"\"\"\n",
    "DON'T MODIFY ANYTHING IN THIS CELL THAT IS BELOW THIS LINE\n",
    "\"\"\"\n",
    "tests.test_build_nn(build_nn)"
   ]
  },
  {
   "cell_type": "markdown",
   "metadata": {},
   "source": [
    "### Batches\n",
    "Implement `get_batches` to create batches of input and targets using `int_text`.  The batches should be a Numpy array with the shape `(number of batches, 2, batch size, sequence length)`. Each batch contains two elements:\n",
    "- The first element is a single batch of **input** with the shape `[batch size, sequence length]`\n",
    "- The second element is a single batch of **targets** with the shape `[batch size, sequence length]`\n",
    "\n",
    "If you can't fill the last batch with enough data, drop the last batch.\n",
    "\n",
    "For exmple, `get_batches([1, 2, 3, 4, 5, 6, 7, 8, 9, 10, 11, 12, 13, 14, 15, 16, 17, 18, 19, 20], 3, 2)` would return a Numpy array of the following:\n",
    "```\n",
    "[\n",
    "  # First Batch\n",
    "  [\n",
    "    # Batch of Input\n",
    "    [[ 1  2], [ 7  8], [13 14]]\n",
    "    # Batch of targets\n",
    "    [[ 2  3], [ 8  9], [14 15]]\n",
    "  ]\n",
    "\n",
    "  # Second Batch\n",
    "  [\n",
    "    # Batch of Input\n",
    "    [[ 3  4], [ 9 10], [15 16]]\n",
    "    # Batch of targets\n",
    "    [[ 4  5], [10 11], [16 17]]\n",
    "  ]\n",
    "\n",
    "  # Third Batch\n",
    "  [\n",
    "    # Batch of Input\n",
    "    [[ 5  6], [11 12], [17 18]]\n",
    "    # Batch of targets\n",
    "    [[ 6  7], [12 13], [18  1]]\n",
    "  ]\n",
    "]\n",
    "```\n",
    "\n",
    "Notice that the last target value in the last batch is the first input value of the first batch. In this case, `1`. This is a common technique used when creating sequence batches, although it is rather unintuitive."
   ]
  },
  {
   "cell_type": "code",
   "execution_count": 13,
   "metadata": {},
   "outputs": [
    {
     "name": "stdout",
     "output_type": "stream",
     "text": [
      "Tests Passed\n"
     ]
    }
   ],
   "source": [
    "def get_batches(int_text, batch_size, seq_len):\n",
    "    \"\"\"\n",
    "    Return batches of input and target\n",
    "    :param int_text: Text with the words replaced by their ids\n",
    "    :param batch_size: The size of batch\n",
    "    :param seq_len: The length of sequence\n",
    "    :return: Batches as a Numpy array\n",
    "    \"\"\"\n",
    "    # TODO: Implement Function\n",
    "    n_chars_per_batch = batch_size * seq_len\n",
    "    n_batches = int(len(int_text) / n_chars_per_batch)\n",
    "    full_batch_size = n_batches * n_chars_per_batch\n",
    "\n",
    "    # Drop the last few characters to make only full batches\n",
    "    x_data = np.array(int_text[: full_batch_size])\n",
    "    y_data = np.array(int_text[1: full_batch_size + 1])\n",
    "\n",
    "    x_batches = np.split(x_data.reshape(batch_size, -1), n_batches, 1)\n",
    "    y_batches = np.split(y_data.reshape(batch_size, -1), n_batches, 1)\n",
    "\n",
    "    first_x_char = x_batches[0][0][0]\n",
    "    y_batches[n_batches-1][batch_size-1][-1] = first_x_char\n",
    "    \n",
    "    return np.array(list(zip(x_batches, y_batches)))\n",
    "\n",
    "\n",
    "\"\"\"\n",
    "DON'T MODIFY ANYTHING IN THIS CELL THAT IS BELOW THIS LINE\n",
    "\"\"\"\n",
    "tests.test_get_batches(get_batches)"
   ]
  },
  {
   "cell_type": "markdown",
   "metadata": {},
   "source": [
    "## Neural Network Training\n",
    "### Hyperparameters\n",
    "Tune the following parameters:\n",
    "\n",
    "- Set `num_epochs` to the number of epochs.\n",
    "- Set `batch_size` to the batch size.\n",
    "- Set `rnn_size` to the size of the RNNs.\n",
    "- Set `embed_dim` to the size of the embedding.\n",
    "- Set `seq_length` to the length of sequence.\n",
    "- Set `learning_rate` to the learning rate.\n",
    "- Set `show_every_n_batches` to the number of batches the neural network should print progress."
   ]
  },
  {
   "cell_type": "code",
   "execution_count": 14,
   "metadata": {
    "collapsed": true
   },
   "outputs": [],
   "source": [
    "# Number of Epochs\n",
    "num_epochs = 10\n",
    "# Batch Size\n",
    "batch_size = 128\n",
    "# RNN Size\n",
    "rnn_size = 256\n",
    "# Embedding Dimension Size\n",
    "embed_dim = 200\n",
    "# Sequence Length\n",
    "seq_length = 2\n",
    "# Learning Rate\n",
    "learning_rate = 0.001\n",
    "# Show stats for every n number of batches\n",
    "show_every_n_batches = 10\n",
    "\n",
    "\"\"\"\n",
    "DON'T MODIFY ANYTHING IN THIS CELL THAT IS BELOW THIS LINE\n",
    "\"\"\"\n",
    "save_dir = './save'"
   ]
  },
  {
   "cell_type": "markdown",
   "metadata": {},
   "source": [
    "### Build the Graph\n",
    "Build the graph using the neural network you implemented."
   ]
  },
  {
   "cell_type": "code",
   "execution_count": 15,
   "metadata": {
    "collapsed": true
   },
   "outputs": [],
   "source": [
    "\"\"\"\n",
    "DON'T MODIFY ANYTHING IN THIS CELL\n",
    "\"\"\"\n",
    "from tensorflow.contrib import seq2seq\n",
    "\n",
    "train_graph = tf.Graph()\n",
    "\n",
    "with train_graph.as_default():\n",
    "    vocab_size = len(int_to_vocab)\n",
    "    input_text, targets, lr = get_inputs()\n",
    "    input_data_shape = tf.shape(input_text)\n",
    "    cell, initial_state = get_init_cell(input_data_shape[0], rnn_size)\n",
    "    logits, final_state = build_nn(cell, rnn_size, input_text, vocab_size, embed_dim)\n",
    "\n",
    "    # Probabilities for generating words\n",
    "    probs = tf.nn.softmax(logits, name='probs')\n",
    "\n",
    "    # Loss function\n",
    "    cost = seq2seq.sequence_loss(\n",
    "        logits,\n",
    "        targets,\n",
    "        tf.ones([input_data_shape[0], input_data_shape[1]]))\n",
    "\n",
    "    # Optimizer\n",
    "    optimizer = tf.train.AdamOptimizer(lr)\n",
    "\n",
    "    # Gradient Clipping\n",
    "    gradients = optimizer.compute_gradients(cost)\n",
    "    capped_gradients = [(tf.clip_by_value(grad, -1., 1.), var) for grad, var in gradients if grad is not None]\n",
    "    train_op = optimizer.apply_gradients(capped_gradients)"
   ]
  },
  {
   "cell_type": "markdown",
   "metadata": {},
   "source": [
    "## Train\n",
    "Train the neural network on the preprocessed data.  If you have a hard time getting a good loss, check the [forums](https://discussions.udacity.com/) to see if anyone is having the same problem."
   ]
  },
  {
   "cell_type": "code",
   "execution_count": 16,
   "metadata": {},
   "outputs": [
    {
     "name": "stdout",
     "output_type": "stream",
     "text": [
      "Epoch   1 Batch    1/269   train_loss = 8.822\n",
      "Epoch   1 Batch   11/269   train_loss = 8.754\n",
      "Epoch   1 Batch   21/269   train_loss = 8.176\n",
      "Epoch   1 Batch   31/269   train_loss = 6.940\n",
      "Epoch   1 Batch   41/269   train_loss = 7.200\n",
      "Epoch   1 Batch   51/269   train_loss = 7.018\n",
      "Epoch   1 Batch   61/269   train_loss = 6.557\n",
      "Epoch   1 Batch   71/269   train_loss = 6.346\n",
      "Epoch   1 Batch   81/269   train_loss = 6.098\n",
      "Epoch   1 Batch   91/269   train_loss = 6.186\n",
      "Epoch   1 Batch  101/269   train_loss = 6.330\n",
      "Epoch   1 Batch  111/269   train_loss = 5.840\n",
      "Epoch   1 Batch  121/269   train_loss = 5.858\n",
      "Epoch   1 Batch  131/269   train_loss = 5.834\n",
      "Epoch   1 Batch  141/269   train_loss = 6.104\n",
      "Epoch   1 Batch  151/269   train_loss = 5.963\n",
      "Epoch   1 Batch  161/269   train_loss = 5.981\n",
      "Epoch   1 Batch  171/269   train_loss = 5.966\n",
      "Epoch   1 Batch  181/269   train_loss = 5.877\n",
      "Epoch   1 Batch  191/269   train_loss = 5.624\n",
      "Epoch   1 Batch  201/269   train_loss = 5.720\n",
      "Epoch   1 Batch  211/269   train_loss = 5.289\n",
      "Epoch   1 Batch  221/269   train_loss = 5.574\n",
      "Epoch   1 Batch  231/269   train_loss = 5.550\n",
      "Epoch   1 Batch  241/269   train_loss = 5.827\n",
      "Epoch   1 Batch  251/269   train_loss = 5.783\n",
      "Epoch   1 Batch  261/269   train_loss = 5.831\n",
      "Epoch   2 Batch    2/269   train_loss = 5.389\n",
      "Epoch   2 Batch   12/269   train_loss = 5.348\n",
      "Epoch   2 Batch   22/269   train_loss = 5.397\n",
      "Epoch   2 Batch   32/269   train_loss = 5.562\n",
      "Epoch   2 Batch   42/269   train_loss = 5.335\n",
      "Epoch   2 Batch   52/269   train_loss = 4.958\n",
      "Epoch   2 Batch   62/269   train_loss = 5.128\n",
      "Epoch   2 Batch   72/269   train_loss = 5.476\n",
      "Epoch   2 Batch   82/269   train_loss = 5.390\n",
      "Epoch   2 Batch   92/269   train_loss = 5.506\n",
      "Epoch   2 Batch  102/269   train_loss = 5.487\n",
      "Epoch   2 Batch  112/269   train_loss = 5.280\n",
      "Epoch   2 Batch  122/269   train_loss = 5.369\n",
      "Epoch   2 Batch  132/269   train_loss = 5.058\n",
      "Epoch   2 Batch  142/269   train_loss = 5.170\n",
      "Epoch   2 Batch  152/269   train_loss = 5.114\n",
      "Epoch   2 Batch  162/269   train_loss = 5.230\n",
      "Epoch   2 Batch  172/269   train_loss = 5.342\n",
      "Epoch   2 Batch  182/269   train_loss = 5.255\n",
      "Epoch   2 Batch  192/269   train_loss = 4.998\n",
      "Epoch   2 Batch  202/269   train_loss = 5.775\n",
      "Epoch   2 Batch  212/269   train_loss = 5.380\n",
      "Epoch   2 Batch  222/269   train_loss = 5.186\n",
      "Epoch   2 Batch  232/269   train_loss = 5.137\n",
      "Epoch   2 Batch  242/269   train_loss = 5.363\n",
      "Epoch   2 Batch  252/269   train_loss = 4.986\n",
      "Epoch   2 Batch  262/269   train_loss = 5.462\n",
      "Epoch   3 Batch    3/269   train_loss = 4.786\n",
      "Epoch   3 Batch   13/269   train_loss = 5.011\n",
      "Epoch   3 Batch   23/269   train_loss = 5.167\n",
      "Epoch   3 Batch   33/269   train_loss = 5.031\n",
      "Epoch   3 Batch   43/269   train_loss = 4.881\n",
      "Epoch   3 Batch   53/269   train_loss = 4.862\n",
      "Epoch   3 Batch   63/269   train_loss = 5.143\n",
      "Epoch   3 Batch   73/269   train_loss = 4.927\n",
      "Epoch   3 Batch   83/269   train_loss = 5.141\n",
      "Epoch   3 Batch   93/269   train_loss = 5.330\n",
      "Epoch   3 Batch  103/269   train_loss = 5.185\n",
      "Epoch   3 Batch  113/269   train_loss = 5.167\n",
      "Epoch   3 Batch  123/269   train_loss = 5.146\n",
      "Epoch   3 Batch  133/269   train_loss = 5.240\n",
      "Epoch   3 Batch  143/269   train_loss = 4.964\n",
      "Epoch   3 Batch  153/269   train_loss = 5.494\n",
      "Epoch   3 Batch  163/269   train_loss = 4.964\n",
      "Epoch   3 Batch  173/269   train_loss = 4.591\n",
      "Epoch   3 Batch  183/269   train_loss = 4.617\n",
      "Epoch   3 Batch  193/269   train_loss = 4.863\n",
      "Epoch   3 Batch  203/269   train_loss = 4.966\n",
      "Epoch   3 Batch  213/269   train_loss = 5.070\n",
      "Epoch   3 Batch  223/269   train_loss = 4.967\n",
      "Epoch   3 Batch  233/269   train_loss = 4.923\n",
      "Epoch   3 Batch  243/269   train_loss = 4.875\n",
      "Epoch   3 Batch  253/269   train_loss = 5.400\n",
      "Epoch   3 Batch  263/269   train_loss = 4.690\n",
      "Epoch   4 Batch    4/269   train_loss = 4.861\n",
      "Epoch   4 Batch   14/269   train_loss = 4.992\n",
      "Epoch   4 Batch   24/269   train_loss = 5.301\n",
      "Epoch   4 Batch   34/269   train_loss = 4.921\n",
      "Epoch   4 Batch   44/269   train_loss = 4.891\n",
      "Epoch   4 Batch   54/269   train_loss = 4.995\n",
      "Epoch   4 Batch   64/269   train_loss = 5.028\n",
      "Epoch   4 Batch   74/269   train_loss = 4.748\n",
      "Epoch   4 Batch   84/269   train_loss = 4.769\n",
      "Epoch   4 Batch   94/269   train_loss = 4.796\n",
      "Epoch   4 Batch  104/269   train_loss = 4.565\n",
      "Epoch   4 Batch  114/269   train_loss = 4.857\n",
      "Epoch   4 Batch  124/269   train_loss = 4.904\n",
      "Epoch   4 Batch  134/269   train_loss = 4.613\n",
      "Epoch   4 Batch  144/269   train_loss = 4.807\n",
      "Epoch   4 Batch  154/269   train_loss = 5.049\n",
      "Epoch   4 Batch  164/269   train_loss = 4.543\n",
      "Epoch   4 Batch  174/269   train_loss = 4.728\n",
      "Epoch   4 Batch  184/269   train_loss = 4.894\n",
      "Epoch   4 Batch  194/269   train_loss = 4.618\n",
      "Epoch   4 Batch  204/269   train_loss = 4.974\n",
      "Epoch   4 Batch  214/269   train_loss = 4.774\n",
      "Epoch   4 Batch  224/269   train_loss = 4.831\n",
      "Epoch   4 Batch  234/269   train_loss = 4.326\n",
      "Epoch   4 Batch  244/269   train_loss = 4.688\n",
      "Epoch   4 Batch  254/269   train_loss = 4.818\n",
      "Epoch   4 Batch  264/269   train_loss = 5.001\n",
      "Epoch   5 Batch    5/269   train_loss = 4.498\n",
      "Epoch   5 Batch   15/269   train_loss = 4.748\n",
      "Epoch   5 Batch   25/269   train_loss = 4.370\n",
      "Epoch   5 Batch   35/269   train_loss = 4.726\n",
      "Epoch   5 Batch   45/269   train_loss = 4.951\n",
      "Epoch   5 Batch   55/269   train_loss = 4.594\n",
      "Epoch   5 Batch   65/269   train_loss = 4.406\n",
      "Epoch   5 Batch   75/269   train_loss = 4.698\n",
      "Epoch   5 Batch   85/269   train_loss = 4.614\n",
      "Epoch   5 Batch   95/269   train_loss = 4.729\n",
      "Epoch   5 Batch  105/269   train_loss = 4.369\n",
      "Epoch   5 Batch  115/269   train_loss = 4.723\n",
      "Epoch   5 Batch  125/269   train_loss = 4.626\n",
      "Epoch   5 Batch  135/269   train_loss = 4.669\n",
      "Epoch   5 Batch  145/269   train_loss = 4.166\n",
      "Epoch   5 Batch  155/269   train_loss = 4.454\n",
      "Epoch   5 Batch  165/269   train_loss = 4.566\n",
      "Epoch   5 Batch  175/269   train_loss = 4.962\n",
      "Epoch   5 Batch  185/269   train_loss = 4.539\n",
      "Epoch   5 Batch  195/269   train_loss = 4.610\n",
      "Epoch   5 Batch  205/269   train_loss = 4.503\n",
      "Epoch   5 Batch  215/269   train_loss = 4.531\n",
      "Epoch   5 Batch  225/269   train_loss = 4.390\n",
      "Epoch   5 Batch  235/269   train_loss = 4.445\n",
      "Epoch   5 Batch  245/269   train_loss = 4.493\n",
      "Epoch   5 Batch  255/269   train_loss = 4.758\n",
      "Epoch   5 Batch  265/269   train_loss = 4.738\n",
      "Epoch   6 Batch    6/269   train_loss = 4.194\n",
      "Epoch   6 Batch   16/269   train_loss = 4.359\n",
      "Epoch   6 Batch   26/269   train_loss = 4.281\n",
      "Epoch   6 Batch   36/269   train_loss = 4.321\n",
      "Epoch   6 Batch   46/269   train_loss = 4.883\n",
      "Epoch   6 Batch   56/269   train_loss = 4.375\n",
      "Epoch   6 Batch   66/269   train_loss = 4.574\n",
      "Epoch   6 Batch   76/269   train_loss = 4.708\n",
      "Epoch   6 Batch   86/269   train_loss = 4.523\n",
      "Epoch   6 Batch   96/269   train_loss = 4.712\n",
      "Epoch   6 Batch  106/269   train_loss = 4.227\n",
      "Epoch   6 Batch  116/269   train_loss = 4.731\n",
      "Epoch   6 Batch  126/269   train_loss = 4.463\n",
      "Epoch   6 Batch  136/269   train_loss = 4.079\n",
      "Epoch   6 Batch  146/269   train_loss = 4.359\n",
      "Epoch   6 Batch  156/269   train_loss = 4.443\n",
      "Epoch   6 Batch  166/269   train_loss = 4.324\n",
      "Epoch   6 Batch  176/269   train_loss = 4.571\n",
      "Epoch   6 Batch  186/269   train_loss = 4.619\n",
      "Epoch   6 Batch  196/269   train_loss = 4.396\n",
      "Epoch   6 Batch  206/269   train_loss = 4.452\n",
      "Epoch   6 Batch  216/269   train_loss = 4.610\n",
      "Epoch   6 Batch  226/269   train_loss = 4.269\n",
      "Epoch   6 Batch  236/269   train_loss = 4.329\n",
      "Epoch   6 Batch  246/269   train_loss = 4.260\n",
      "Epoch   6 Batch  256/269   train_loss = 4.826\n",
      "Epoch   6 Batch  266/269   train_loss = 4.478\n",
      "Epoch   7 Batch    7/269   train_loss = 4.123\n",
      "Epoch   7 Batch   17/269   train_loss = 4.551\n",
      "Epoch   7 Batch   27/269   train_loss = 4.266\n",
      "Epoch   7 Batch   37/269   train_loss = 4.502\n",
      "Epoch   7 Batch   47/269   train_loss = 4.159\n",
      "Epoch   7 Batch   57/269   train_loss = 4.373\n",
      "Epoch   7 Batch   67/269   train_loss = 4.358\n",
      "Epoch   7 Batch   77/269   train_loss = 4.310\n",
      "Epoch   7 Batch   87/269   train_loss = 4.612\n",
      "Epoch   7 Batch   97/269   train_loss = 4.522\n",
      "Epoch   7 Batch  107/269   train_loss = 4.331\n",
      "Epoch   7 Batch  117/269   train_loss = 4.614\n",
      "Epoch   7 Batch  127/269   train_loss = 4.364\n",
      "Epoch   7 Batch  137/269   train_loss = 4.181\n",
      "Epoch   7 Batch  147/269   train_loss = 4.747\n",
      "Epoch   7 Batch  157/269   train_loss = 4.289\n",
      "Epoch   7 Batch  167/269   train_loss = 4.267\n",
      "Epoch   7 Batch  177/269   train_loss = 4.371\n"
     ]
    },
    {
     "name": "stdout",
     "output_type": "stream",
     "text": [
      "Epoch   7 Batch  187/269   train_loss = 4.425\n",
      "Epoch   7 Batch  197/269   train_loss = 3.918\n",
      "Epoch   7 Batch  207/269   train_loss = 4.381\n",
      "Epoch   7 Batch  217/269   train_loss = 4.215\n",
      "Epoch   7 Batch  227/269   train_loss = 4.001\n",
      "Epoch   7 Batch  237/269   train_loss = 4.097\n",
      "Epoch   7 Batch  247/269   train_loss = 4.256\n",
      "Epoch   7 Batch  257/269   train_loss = 4.180\n",
      "Epoch   7 Batch  267/269   train_loss = 4.103\n",
      "Epoch   8 Batch    8/269   train_loss = 4.048\n",
      "Epoch   8 Batch   18/269   train_loss = 4.248\n",
      "Epoch   8 Batch   28/269   train_loss = 4.480\n",
      "Epoch   8 Batch   38/269   train_loss = 4.141\n",
      "Epoch   8 Batch   48/269   train_loss = 4.052\n",
      "Epoch   8 Batch   58/269   train_loss = 4.390\n",
      "Epoch   8 Batch   68/269   train_loss = 4.379\n",
      "Epoch   8 Batch   78/269   train_loss = 4.226\n",
      "Epoch   8 Batch   88/269   train_loss = 4.240\n",
      "Epoch   8 Batch   98/269   train_loss = 4.335\n",
      "Epoch   8 Batch  108/269   train_loss = 4.403\n",
      "Epoch   8 Batch  118/269   train_loss = 4.126\n",
      "Epoch   8 Batch  128/269   train_loss = 4.300\n",
      "Epoch   8 Batch  138/269   train_loss = 4.056\n",
      "Epoch   8 Batch  148/269   train_loss = 4.242\n",
      "Epoch   8 Batch  158/269   train_loss = 3.991\n",
      "Epoch   8 Batch  168/269   train_loss = 3.965\n",
      "Epoch   8 Batch  178/269   train_loss = 4.092\n",
      "Epoch   8 Batch  188/269   train_loss = 4.129\n",
      "Epoch   8 Batch  198/269   train_loss = 3.976\n",
      "Epoch   8 Batch  208/269   train_loss = 3.907\n",
      "Epoch   8 Batch  218/269   train_loss = 4.151\n",
      "Epoch   8 Batch  228/269   train_loss = 4.273\n",
      "Epoch   8 Batch  238/269   train_loss = 4.023\n",
      "Epoch   8 Batch  248/269   train_loss = 4.172\n",
      "Epoch   8 Batch  258/269   train_loss = 4.248\n",
      "Epoch   8 Batch  268/269   train_loss = 4.081\n",
      "Epoch   9 Batch    9/269   train_loss = 4.057\n",
      "Epoch   9 Batch   19/269   train_loss = 4.015\n",
      "Epoch   9 Batch   29/269   train_loss = 4.135\n",
      "Epoch   9 Batch   39/269   train_loss = 3.884\n",
      "Epoch   9 Batch   49/269   train_loss = 4.186\n",
      "Epoch   9 Batch   59/269   train_loss = 4.067\n",
      "Epoch   9 Batch   69/269   train_loss = 4.014\n",
      "Epoch   9 Batch   79/269   train_loss = 3.965\n",
      "Epoch   9 Batch   89/269   train_loss = 4.162\n",
      "Epoch   9 Batch   99/269   train_loss = 4.154\n",
      "Epoch   9 Batch  109/269   train_loss = 4.166\n",
      "Epoch   9 Batch  119/269   train_loss = 4.023\n",
      "Epoch   9 Batch  129/269   train_loss = 4.166\n",
      "Epoch   9 Batch  139/269   train_loss = 4.189\n",
      "Epoch   9 Batch  149/269   train_loss = 4.007\n",
      "Epoch   9 Batch  159/269   train_loss = 4.500\n",
      "Epoch   9 Batch  169/269   train_loss = 4.028\n",
      "Epoch   9 Batch  179/269   train_loss = 3.905\n",
      "Epoch   9 Batch  189/269   train_loss = 3.949\n",
      "Epoch   9 Batch  199/269   train_loss = 4.054\n",
      "Epoch   9 Batch  209/269   train_loss = 4.036\n",
      "Epoch   9 Batch  219/269   train_loss = 3.824\n",
      "Epoch   9 Batch  229/269   train_loss = 3.958\n",
      "Epoch   9 Batch  239/269   train_loss = 3.823\n",
      "Epoch   9 Batch  249/269   train_loss = 4.242\n",
      "Epoch   9 Batch  259/269   train_loss = 4.087\n",
      "Epoch   9 Batch  269/269   train_loss = 4.128\n",
      "Epoch  10 Batch   10/269   train_loss = 3.784\n",
      "Epoch  10 Batch   20/269   train_loss = 4.170\n",
      "Epoch  10 Batch   30/269   train_loss = 4.036\n",
      "Epoch  10 Batch   40/269   train_loss = 3.967\n",
      "Epoch  10 Batch   50/269   train_loss = 4.038\n",
      "Epoch  10 Batch   60/269   train_loss = 4.071\n",
      "Epoch  10 Batch   70/269   train_loss = 4.006\n",
      "Epoch  10 Batch   80/269   train_loss = 4.018\n",
      "Epoch  10 Batch   90/269   train_loss = 3.812\n",
      "Epoch  10 Batch  100/269   train_loss = 3.898\n",
      "Epoch  10 Batch  110/269   train_loss = 3.971\n",
      "Epoch  10 Batch  120/269   train_loss = 3.952\n",
      "Epoch  10 Batch  130/269   train_loss = 3.927\n",
      "Epoch  10 Batch  140/269   train_loss = 3.951\n",
      "Epoch  10 Batch  150/269   train_loss = 4.198\n",
      "Epoch  10 Batch  160/269   train_loss = 3.988\n",
      "Epoch  10 Batch  170/269   train_loss = 3.838\n",
      "Epoch  10 Batch  180/269   train_loss = 3.960\n",
      "Epoch  10 Batch  190/269   train_loss = 3.934\n",
      "Epoch  10 Batch  200/269   train_loss = 3.972\n",
      "Epoch  10 Batch  210/269   train_loss = 3.891\n",
      "Epoch  10 Batch  220/269   train_loss = 3.758\n",
      "Epoch  10 Batch  230/269   train_loss = 3.973\n",
      "Epoch  10 Batch  240/269   train_loss = 4.021\n",
      "Epoch  10 Batch  250/269   train_loss = 3.960\n",
      "Epoch  10 Batch  260/269   train_loss = 4.002\n",
      "Model Trained and Saved\n"
     ]
    }
   ],
   "source": [
    "\"\"\"\n",
    "DON'T MODIFY ANYTHING IN THIS CELL\n",
    "\"\"\"\n",
    "batches = get_batches(int_text, batch_size, seq_length)\n",
    "\n",
    "with tf.Session(graph=train_graph) as sess:\n",
    "    sess.run(tf.global_variables_initializer())\n",
    "\n",
    "    for epoch_i in range(num_epochs):\n",
    "        state = sess.run(initial_state, {input_text: batches[0][0]})\n",
    "\n",
    "        for batch_i, (x, y) in enumerate(batches):\n",
    "            feed = {\n",
    "                input_text: x,\n",
    "                targets: y,\n",
    "                initial_state: state,\n",
    "                lr: learning_rate}\n",
    "            train_loss, state, _ = sess.run([cost, final_state, train_op], feed)\n",
    "\n",
    "            # Show every <show_every_n_batches> batches\n",
    "            if (epoch_i * len(batches) + batch_i) % show_every_n_batches == 0:\n",
    "                print('Epoch {:>3} Batch {:>4}/{}   train_loss = {:.3f}'.format(\n",
    "                    epoch_i+1,\n",
    "                    batch_i+1,\n",
    "                    len(batches),\n",
    "                    train_loss))\n",
    "\n",
    "    # Save Model\n",
    "    saver = tf.train.Saver()\n",
    "    saver.save(sess, save_dir)\n",
    "    print('Model Trained and Saved')"
   ]
  },
  {
   "cell_type": "markdown",
   "metadata": {},
   "source": [
    "## Save Parameters\n",
    "Save `seq_length` and `save_dir` for generating a new TV script."
   ]
  },
  {
   "cell_type": "code",
   "execution_count": 17,
   "metadata": {
    "collapsed": true
   },
   "outputs": [],
   "source": [
    "\"\"\"\n",
    "DON'T MODIFY ANYTHING IN THIS CELL\n",
    "\"\"\"\n",
    "# Save parameters for checkpoint\n",
    "helper.save_params((seq_length, save_dir))"
   ]
  },
  {
   "cell_type": "markdown",
   "metadata": {},
   "source": [
    "# Checkpoint"
   ]
  },
  {
   "cell_type": "code",
   "execution_count": 18,
   "metadata": {
    "collapsed": true
   },
   "outputs": [],
   "source": [
    "\"\"\"\n",
    "DON'T MODIFY ANYTHING IN THIS CELL\n",
    "\"\"\"\n",
    "import tensorflow as tf\n",
    "import numpy as np\n",
    "import helper\n",
    "import problem_unittests as tests\n",
    "\n",
    "_, vocab_to_int, int_to_vocab, token_dict = helper.load_preprocess()\n",
    "seq_length, load_dir = helper.load_params()"
   ]
  },
  {
   "cell_type": "markdown",
   "metadata": {},
   "source": [
    "## Implement Generate Functions\n",
    "### Get Tensors\n",
    "Get tensors from `loaded_graph` using the function [`get_tensor_by_name()`](https://www.tensorflow.org/api_docs/python/tf/Graph#get_tensor_by_name).  Get the tensors using the following names:\n",
    "- \"input:0\"\n",
    "- \"initial_state:0\"\n",
    "- \"final_state:0\"\n",
    "- \"probs:0\"\n",
    "\n",
    "Return the tensors in the following tuple `(InputTensor, InitialStateTensor, FinalStateTensor, ProbsTensor)` "
   ]
  },
  {
   "cell_type": "code",
   "execution_count": 19,
   "metadata": {},
   "outputs": [
    {
     "name": "stdout",
     "output_type": "stream",
     "text": [
      "Tests Passed\n"
     ]
    }
   ],
   "source": [
    "def get_tensors(loaded_graph):\n",
    "    \"\"\"\n",
    "    Get input, initial state, final state, and probabilities tensor from <loaded_graph>\n",
    "    :param loaded_graph: TensorFlow graph loaded from file\n",
    "    :return: Tuple (InputTensor, InitialStateTensor, FinalStateTensor, ProbsTensor)\n",
    "    \"\"\"\n",
    "    # TODO: Implement Function\n",
    "    with tf.Session(graph=loaded_graph) as sess:\n",
    "        inputs = tf.get_default_graph().get_tensor_by_name(\"input:0\")\n",
    "        initial_state = tf.get_default_graph().get_tensor_by_name(\"initial_state:0\")\n",
    "        final_state = tf.get_default_graph().get_tensor_by_name(\"final_state:0\")\n",
    "        probs = tf.get_default_graph().get_tensor_by_name(\"probs:0\")\n",
    "    \n",
    "    return (inputs, initial_state, final_state, probs)\n",
    "\n",
    "\n",
    "\"\"\"\n",
    "DON'T MODIFY ANYTHING IN THIS CELL THAT IS BELOW THIS LINE\n",
    "\"\"\"\n",
    "tests.test_get_tensors(get_tensors)"
   ]
  },
  {
   "cell_type": "markdown",
   "metadata": {},
   "source": [
    "### Choose Word\n",
    "Implement the `pick_word()` function to select the next word using `probabilities`."
   ]
  },
  {
   "cell_type": "code",
   "execution_count": 20,
   "metadata": {},
   "outputs": [
    {
     "name": "stdout",
     "output_type": "stream",
     "text": [
      "Tests Passed\n"
     ]
    }
   ],
   "source": [
    "def pick_word(probabilities, int_to_vocab):\n",
    "    \"\"\"\n",
    "    Pick the next word in the generated text\n",
    "    :param probabilities: Probabilites of the next word\n",
    "    :param int_to_vocab: Dictionary of word ids as the keys and words as the values\n",
    "    :return: String of the predicted word\n",
    "    \"\"\"\n",
    "    # TODO: Implement Function\n",
    "#     max_idx = np.argmax(probabilities)\n",
    "#     return int_to_vocab[max_idx]\n",
    "\n",
    "    top_n = 5\n",
    "    p = np.squeeze(probabilities)\n",
    "    p[np.argsort(p)[:-top_n]] = 0\n",
    "    p = p / np.sum(p)\n",
    "    i = np.random.choice(len(int_to_vocab), 1, p=p)[0]\n",
    "    return int_to_vocab[i]\n",
    "\n",
    "\n",
    "\"\"\"\n",
    "DON'T MODIFY ANYTHING IN THIS CELL THAT IS BELOW THIS LINE\n",
    "\"\"\"\n",
    "tests.test_pick_word(pick_word)"
   ]
  },
  {
   "cell_type": "markdown",
   "metadata": {},
   "source": [
    "## Generate TV Script\n",
    "This will generate the TV script for you.  Set `gen_length` to the length of TV script you want to generate."
   ]
  },
  {
   "cell_type": "code",
   "execution_count": 21,
   "metadata": {},
   "outputs": [
    {
     "name": "stdout",
     "output_type": "stream",
     "text": [
      "INFO:tensorflow:Restoring parameters from ./save\n",
      "moe_szyslak: aw, you guys, i'm a big acquaintance.\n",
      "homer_simpson:(flatly) you can be.\n",
      "homer_simpson:(sighs) i don't wanna tell that?\n",
      "moe_szyslak:(to homer, you guys.\n",
      "\n",
      "\n",
      "lenny_leonard:(into phone) yeah.(sighs)\n",
      "homer_simpson: hey, i don't think what are you familiar.\n",
      "homer_simpson:(sighs) you don't do that.\n",
      "moe_szyslak:(to homer) hey, moe.\n",
      "moe_szyslak: uh, homer.\n",
      "carl_carlson: well, i can say, but i am.\n",
      "moe_szyslak:(sings) hey,(intrigued noise)\n",
      "moe_szyslak: yeah.\n",
      "moe_szyslak:(sings) hey!(into phone) oh, homer?\n",
      "lenny_leonard: well, i can't believe you can give me some life.(turns) you can be the best.\n",
      "carl_carlson: uh, i can't believe it!\n",
      "homer_simpson:(awkwardly,\" bonfire of the pope's.\n",
      "moe_szyslak: yeah, homer, it's not.\n",
      "homer_simpson: hey, hey, hey!(to himself, a chick with my\n"
     ]
    }
   ],
   "source": [
    "gen_length = 200\n",
    "# homer_simpson, moe_szyslak, or Barney_Gumble\n",
    "prime_word = 'moe_szyslak'\n",
    "\n",
    "\"\"\"\n",
    "DON'T MODIFY ANYTHING IN THIS CELL THAT IS BELOW THIS LINE\n",
    "\"\"\"\n",
    "loaded_graph = tf.Graph()\n",
    "\n",
    "with tf.Session(graph=loaded_graph) as sess:\n",
    "    # Load saved model\n",
    "    loader = tf.train.import_meta_graph(load_dir + '.meta')\n",
    "    loader.restore(sess, load_dir)\n",
    "\n",
    "    # Get Tensors from loaded model\n",
    "    input_text, initial_state, final_state, probs = get_tensors(loaded_graph)\n",
    "\n",
    "    # Sentences generation setup\n",
    "    gen_sentences = [prime_word + ':']\n",
    "    prev_state = sess.run(initial_state, {input_text: np.array([[1]])})\n",
    "\n",
    "    # Generate sentences\n",
    "    for n in range(gen_length):\n",
    "        # Dynamic Input\n",
    "        dyn_input = [[vocab_to_int[word] for word in gen_sentences[-seq_length:]]]\n",
    "        dyn_seq_length = len(dyn_input[0])\n",
    "\n",
    "        # Get Prediction\n",
    "        probabilities, prev_state = sess.run(\n",
    "            [probs, final_state],\n",
    "            {input_text: dyn_input, initial_state: prev_state})\n",
    "        \n",
    "        pred_word = pick_word(probabilities[dyn_seq_length-1], int_to_vocab)\n",
    "\n",
    "        gen_sentences.append(pred_word)\n",
    "    \n",
    "    # Remove tokens\n",
    "    tv_script = ' '.join(gen_sentences)\n",
    "    for key, token in token_dict.items():\n",
    "        ending = ' ' if key in ['\\n', '(', '\"'] else ''\n",
    "        tv_script = tv_script.replace(' ' + token.lower(), key)\n",
    "    tv_script = tv_script.replace('\\n ', '\\n')\n",
    "    tv_script = tv_script.replace('( ', '(')\n",
    "        \n",
    "    print(tv_script)"
   ]
  },
  {
   "cell_type": "markdown",
   "metadata": {},
   "source": [
    "# The TV Script is Nonsensical\n",
    "It's ok if the TV script doesn't make any sense.  We trained on less than a megabyte of text.  In order to get good results, you'll have to use a smaller vocabulary or get more data.  Luckly there's more data!  As we mentioned in the begging of this project, this is a subset of [another dataset](https://www.kaggle.com/wcukierski/the-simpsons-by-the-data).  We didn't have you train on all the data, because that would take too long.  However, you are free to train your neural network on all the data.  After you complete the project, of course.\n",
    "# Submitting This Project\n",
    "When submitting this project, make sure to run all the cells before saving the notebook. Save the notebook file as \"dlnd_tv_script_generation.ipynb\" and save it as a HTML file under \"File\" -> \"Download as\". Include the \"helper.py\" and \"problem_unittests.py\" files in your submission."
   ]
  }
 ],
 "metadata": {
  "kernelspec": {
   "display_name": "Python [default]",
   "language": "python",
   "name": "python3"
  },
  "language_info": {
   "codemirror_mode": {
    "name": "ipython",
    "version": 3
   },
   "file_extension": ".py",
   "mimetype": "text/x-python",
   "name": "python",
   "nbconvert_exporter": "python",
   "pygments_lexer": "ipython3",
   "version": "3.6.2"
  },
  "widgets": {
   "state": {},
   "version": "1.1.2"
  }
 },
 "nbformat": 4,
 "nbformat_minor": 1
}
